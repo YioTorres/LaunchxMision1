{
 "cells": [
  {
   "cell_type": "code",
   "execution_count": 2,
   "metadata": {},
   "outputs": [],
   "source": [
    "def generar_informe(tanque1, tanque2, tanque3):\n",
    "    promedio_total = (tanque1 + tanque2 + tanque3) / 3\n",
    "    return f\"\"\"Informe_de_combustible:\n",
    "    Promedio total: {promedio_total}%\n",
    "    Tanque 1: {tanque1}%\n",
    "    Tanque 2: {tanque2}%\n",
    "    Tanque 3: {tanque3}%\n",
    "    \"\"\""
   ]
  },
  {
   "cell_type": "code",
   "execution_count": 3,
   "metadata": {},
   "outputs": [
    {
     "name": "stdout",
     "output_type": "stream",
     "text": [
      "Informe_de_combustible:\n",
      "    Promedio total: 85.33333333333333%\n",
      "    Tanque 1: 96%\n",
      "    Tanque 2: 87%\n",
      "    Tanque 3: 73%\n",
      "    \n"
     ]
    }
   ],
   "source": [
    "print(generar_informe(96, 87, 73))"
   ]
  },
  {
   "cell_type": "code",
   "execution_count": 4,
   "metadata": {},
   "outputs": [],
   "source": [
    "def promedio(valores):\n",
    "    total = sum(valores)\n",
    "    numero_de_elementos = len(valores)\n",
    "    return total / numero_de_elementos"
   ]
  },
  {
   "cell_type": "code",
   "execution_count": 5,
   "metadata": {},
   "outputs": [
    {
     "data": {
      "text/plain": [
       "80.66666666666667"
      ]
     },
     "execution_count": 5,
     "metadata": {},
     "output_type": "execute_result"
    }
   ],
   "source": [
    "promedio([92, 81, 69])"
   ]
  },
  {
   "cell_type": "code",
   "execution_count": 6,
   "metadata": {},
   "outputs": [],
   "source": [
    "def generar_informe(tanque1, tanque2, tanque3):\n",
    "    return f\"\"\"Informe_de_combustible:\n",
    "    Promedio total: {promedio([tanque1, tanque2, tanque3])}%\n",
    "    Tanque 1: {tanque1}%\n",
    "    Tanque 2: {tanque2}%\n",
    "    Tanque 3: {tanque3}%\n",
    "    \"\"\""
   ]
  },
  {
   "cell_type": "code",
   "execution_count": 7,
   "metadata": {},
   "outputs": [
    {
     "name": "stdout",
     "output_type": "stream",
     "text": [
      "Informe_de_combustible:\n",
      "    Promedio total: 75.0%\n",
      "    Tanque 1: 86%\n",
      "    Tanque 2: 79%\n",
      "    Tanque 3: 60%\n",
      "    \n"
     ]
    }
   ],
   "source": [
    "print(generar_informe(86, 79, 60))"
   ]
  },
  {
   "cell_type": "code",
   "execution_count": 8,
   "metadata": {},
   "outputs": [
    {
     "name": "stdout",
     "output_type": "stream",
     "text": [
      "\n",
      "    Mision a Marte\n",
      "    Tiempo total del viaje: 270 minutos\n",
      "    Combustible restante: 200000 galones\n",
      "    \n"
     ]
    }
   ],
   "source": [
    "def informe_de_mision(prelanzamiento, tiempo_de_vuelo, destino, tanque_externo, tanque_interno):\n",
    "    return f\"\"\"\n",
    "    Mision a {destino}\n",
    "    Tiempo total del viaje: {prelanzamiento + tiempo_de_vuelo} minutos\n",
    "    Combustible restante: {tanque_externo + tanque_interno} galones\n",
    "    \"\"\"\n",
    "\n",
    "print(informe_de_mision(20, 250, \"Marte\", 50000, 150000))"
   ]
  },
  {
   "cell_type": "code",
   "execution_count": 14,
   "metadata": {},
   "outputs": [
    {
     "name": "stdout",
     "output_type": "stream",
     "text": [
      "\n",
      "    Mision a Marte\n",
      "    Tiempo total del viaje: 280 minutos\n",
      "    Combustible restante: 200000\n",
      "    \n"
     ]
    }
   ],
   "source": [
    "def informe_de_mision(destino, *minutos, **deposito_de_combustible):\n",
    "    return f\"\"\"\n",
    "    Mision a {destino}\n",
    "    Tiempo total del viaje: {sum(minutos)} minutos\n",
    "    Combustible restante: {sum(deposito_de_combustible.values())}\n",
    "    \"\"\"\n",
    "    \n",
    "\n",
    "print(informe_de_mision(\"Marte\", 10, 20, 250, externo = 50000, interno = 150000))"
   ]
  },
  {
   "cell_type": "code",
   "execution_count": 15,
   "metadata": {},
   "outputs": [
    {
     "name": "stdout",
     "output_type": "stream",
     "text": [
      "\n",
      "    Mision a Marte\n",
      "    Tiempo total del viaje: 295 minutos\n",
      "    Combustible restante: 200000\n",
      "    externo tanque --> 50000 galones restantes\n",
      "interno tanque --> 150000 galones restantes\n",
      "\n"
     ]
    }
   ],
   "source": [
    "def informe_de_mision(destino, *minutos, **deposito_de_combustible):\n",
    "    primer_reporte = f\"\"\"\n",
    "    Mision a {destino}\n",
    "    Tiempo total del viaje: {sum(minutos)} minutos\n",
    "    Combustible restante: {sum(deposito_de_combustible.values())}\n",
    "    \"\"\"\n",
    "    for nombre_del_tanque, galones in deposito_de_combustible.items():\n",
    "        primer_reporte += f\"{nombre_del_tanque} tanque --> {galones} galones restantes\\n\"\n",
    "    return primer_reporte\n",
    "\n",
    "print(informe_de_mision(\"Marte\", 12, 23, 260, externo = 50000, interno = 150000))\n"
   ]
  }
 ],
 "metadata": {
  "interpreter": {
   "hash": "2be5faf79681da6f2a61fdfdd5405d65d042280f7fba6178067603e3a2925119"
  },
  "kernelspec": {
   "display_name": "Python 3.10.2 64-bit",
   "language": "python",
   "name": "python3"
  },
  "language_info": {
   "codemirror_mode": {
    "name": "ipython",
    "version": 3
   },
   "file_extension": ".py",
   "mimetype": "text/x-python",
   "name": "python",
   "nbconvert_exporter": "python",
   "pygments_lexer": "ipython3",
   "version": "3.10.2"
  },
  "orig_nbformat": 4
 },
 "nbformat": 4,
 "nbformat_minor": 2
}
