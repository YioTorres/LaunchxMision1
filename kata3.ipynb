{
 "cells": [
  {
   "cell_type": "code",
   "execution_count": 5,
   "metadata": {},
   "outputs": [
    {
     "name": "stdout",
     "output_type": "stream",
     "text": [
      "¡Peligro! ¡Un asteroide se acerca a la tierra demasiado rapido!\n"
     ]
    }
   ],
   "source": [
    "asteroide = 49\n",
    "if asteroide > 25:\n",
    "    print('¡Peligro! ¡Un asteroide se acerca a la tierra demasiado rapido!')\n",
    "else:\n",
    "    print('¡No pasa nada!')\n"
   ]
  },
  {
   "cell_type": "code",
   "execution_count": 6,
   "metadata": {},
   "outputs": [
    {
     "name": "stdout",
     "output_type": "stream",
     "text": [
      "¡Sin problemas!\n"
     ]
    }
   ],
   "source": [
    "asteroide = 19\n",
    "if asteroide > 20:\n",
    "    print('Mira hacia arriba! ¡Hay un rayo de luz en el cielo!')\n",
    "elif asteroide == 20:\n",
    "    print('Mira hacia arriba! ¡Hay un rayo de luz en el cielo!')\n",
    "else:\n",
    "    print('¡Sin problemas!')"
   ]
  },
  {
   "cell_type": "code",
   "execution_count": 7,
   "metadata": {},
   "outputs": [
    {
     "name": "stdout",
     "output_type": "stream",
     "text": [
      "Mira hacia arriba! ¡Hay un rayo de luz en el cielo!\n"
     ]
    }
   ],
   "source": [
    "velocidad_del_asteroide = 25\n",
    "tamano_del_asteroide = 40\n",
    "if velocidad_del_asteroide > 25 and tamano_del_asteroide > 25:\n",
    "    print('¡Peligro, Un asteroide viene hacia la Tierra!')\n",
    "elif velocidad_del_asteroide >= 20:\n",
    "    print('Mira hacia arriba! ¡Hay un rayo de luz en el cielo!')\n",
    "elif tamano_del_asteroide < 25:\n",
    "    print('No hay problema :)')\n",
    "else:\n",
    "    print('No hay problema :)')"
   ]
  }
 ],
 "metadata": {
  "interpreter": {
   "hash": "2be5faf79681da6f2a61fdfdd5405d65d042280f7fba6178067603e3a2925119"
  },
  "kernelspec": {
   "display_name": "Python 3.10.2 64-bit",
   "language": "python",
   "name": "python3"
  },
  "language_info": {
   "codemirror_mode": {
    "name": "ipython",
    "version": 3
   },
   "file_extension": ".py",
   "mimetype": "text/x-python",
   "name": "python",
   "nbconvert_exporter": "python",
   "pygments_lexer": "ipython3",
   "version": "3.10.2"
  },
  "orig_nbformat": 4
 },
 "nbformat": 4,
 "nbformat_minor": 2
}
